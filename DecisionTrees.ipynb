{
 "cells": [
  {
   "cell_type": "markdown",
   "metadata": {},
   "source": [
    "### DECISION TREES PART I\n",
    "Jakub Prusak 151178\n",
    "<br> Katarzyna Przepiórska 151752\n",
    "\n",
    "#### Wstęp\n",
    "Zadanie polega na stworzeniu drzewa decyzyjnego na podstawie danych zawierających informacje o podróżujących Tytanikiem.\n",
    "\n",
    "#### Wczytanie pliku\n",
    "Pierwszym krokiem jest wczytanie danych z pliku .csv i zapisanie ich jako klasy."
   ]
  },
  {
   "cell_type": "code",
   "execution_count": 23,
   "metadata": {},
   "outputs": [
    {
     "name": "stdout",
     "output_type": "stream",
     "text": [
      "['1,3,\"Braund,', 'Mr.', 'Owen', 'Harris\",\"male\",22,1,0,0']\n"
     ]
    }
   ],
   "source": [
    "class Passenger:\n",
    "    def __init__(self, PassengerId, Pclass, Name, Sex, Age, SibSp, Parch, Survived):\n",
    "        self.PassengerId = PassengerId\n",
    "        self.Pclass = Pclass\n",
    "        self.Name = Name\n",
    "        self.Sex = Sex\n",
    "        self.Age = Age\n",
    "        self.SibSp = SibSp\n",
    "        self.Parch = Parch\n",
    "        self.Survived = Survived\n",
    "        \n",
    "    def __repr__(self):\n",
    "        \"\"\"String representation of the Passenger object.\"\"\"\n",
    "        return (f\"Passenger(PassengerId={self.PassengerId}, Pclass={self.Pclass}, \"\n",
    "                f\"Name='{self.Name}', Sex='{self.Sex}', Age={self.Age}, \"\n",
    "                f\"SibSp={self.SibSp}, Parch={self.Parch}, Survived={self.Survived})\")\n",
    "\n",
    "# p = Passenger()\n",
    "# print(p)"
   ]
  },
  {
   "cell_type": "code",
   "execution_count": 37,
   "metadata": {},
   "outputs": [
    {
     "name": "stdout",
     "output_type": "stream",
     "text": [
      "uwu\n",
      "[{'PassengerId': '1', 'Pclass': '3', 'Name': 'Braund, Mr. Owen Harris', 'Sex': 'male', 'Age': '22', 'SibSp': '1', 'Parch': '0', 'Survived': '0'}, {'PassengerId': '2', 'Pclass': '1', 'Name': 'Cumings, Mrs. John Bradley (Florence Briggs Thayer)', 'Sex': 'female', 'Age': '38', 'SibSp': '1', 'Parch': '0', 'Survived': '1'}, {'PassengerId': '3', 'Pclass': '3', 'Name': 'Heikkinen, Miss. Laina', 'Sex': 'female', 'Age': '26', 'SibSp': '0', 'Parch': '0', 'Survived': '1'}, {'PassengerId': '4', 'Pclass': '1', 'Name': 'Futrelle, Mrs. Jacques Heath (Lily May Peel)', 'Sex': 'female', 'Age': '35', 'SibSp': '1', 'Parch': '0', 'Survived': '1'}, {'PassengerId': '5', 'Pclass': '3', 'Name': 'Allen, Mr. William Henry', 'Sex': 'male', 'Age': '35', 'SibSp': '0', 'Parch': '0', 'Survived': '0'}, {'PassengerId': '6', 'Pclass': '3', 'Name': 'Moran, Mr. James', 'Sex': 'male', 'Age': '34', 'SibSp': '0', 'Parch': '0', 'Survived': '0'}, {'PassengerId': '7', 'Pclass': '1', 'Name': 'McCarthy, Mr. Timothy J', 'Sex': 'male', 'Age': '54', 'SibSp': '0', 'Parch': '0', 'Survived': '0'}, {'PassengerId': '8', 'Pclass': '3', 'Name': 'Palsson, Master. Gosta Leonard', 'Sex': 'male', 'Age': '2', 'SibSp': '3', 'Parch': '1', 'Survived': '0'}, {'PassengerId': '9', 'Pclass': '3', 'Name': 'Johnson, Mrs. Oscar W (Elisabeth Vilhelmina Berg)', 'Sex': 'female', 'Age': '27', 'SibSp': '0', 'Parch': '2', 'Survived': '1'}, {'PassengerId': '10', 'Pclass': '2', 'Name': 'Nasser, Mrs. Nicholas (Adele Achem)', 'Sex': 'female', 'Age': '14', 'SibSp': '1', 'Parch': '0', 'Survived': '1'}, {'PassengerId': '11', 'Pclass': '3', 'Name': 'Sandstrom, Miss. Marguerite Rut', 'Sex': 'female', 'Age': '4', 'SibSp': '1', 'Parch': '1', 'Survived': '1'}, {'PassengerId': '12', 'Pclass': '1', 'Name': 'Bonnell, Miss. Elizabeth', 'Sex': 'female', 'Age': '58', 'SibSp': '0', 'Parch': '0', 'Survived': '1'}, {'PassengerId': '13', 'Pclass': '3', 'Name': 'Saundercock, Mr. William Henry', 'Sex': 'male', 'Age': '20', 'SibSp': '0', 'Parch': '0', 'Survived': '0'}, {'PassengerId': '14', 'Pclass': '3', 'Name': 'Andersson, Mr. Anders Johan', 'Sex': 'male', 'Age': '39', 'SibSp': '1', 'Parch': '5', 'Survived': '0'}, {'PassengerId': '15', 'Pclass': '3', 'Name': 'Vestrom, Miss. Hulda Amanda Adolfina', 'Sex': 'female', 'Age': '14', 'SibSp': '0', 'Parch': '0', 'Survived': '1'}, {'PassengerId': '16', 'Pclass': '2', 'Name': 'Hewlett, Mrs. (Mary D Kingcome)', 'Sex': 'female', 'Age': '55', 'SibSp': '0', 'Parch': '0', 'Survived': '1'}, {'PassengerId': '17', 'Pclass': '3', 'Name': 'Rice, Master. Eugene', 'Sex': 'male', 'Age': '2', 'SibSp': '4', 'Parch': '1', 'Survived': '0'}, {'PassengerId': '18', 'Pclass': '2', 'Name': 'Williams, Mr. Charles Eugene', 'Sex': 'male', 'Age': '12', 'SibSp': '0', 'Parch': '0', 'Survived': '1'}, {'PassengerId': '19', 'Pclass': '3', 'Name': 'Vander Planke, Mrs. Julius (Emelia Maria Vandemoortele)', 'Sex': 'female', 'Age': '31', 'SibSp': '1', 'Parch': '0', 'Survived': '0'}, {'PassengerId': '20', 'Pclass': '3', 'Name': 'Masselmani, Mrs. Fatima', 'Sex': 'female', 'Age': '63', 'SibSp': '0', 'Parch': '0', 'Survived': '1'}, {'PassengerId': '21', 'Pclass': '2', 'Name': 'Fynney, Mr. Joseph J', 'Sex': 'male', 'Age': '35', 'SibSp': '0', 'Parch': '0', 'Survived': '0'}, {'PassengerId': '22', 'Pclass': '2', 'Name': 'Beesley, Mr. Lawrence', 'Sex': 'male', 'Age': '34', 'SibSp': '0', 'Parch': '0', 'Survived': '0'}, {'PassengerId': '23', 'Pclass': '3', 'Name': 'McGowan, Miss. Anna \"Annie\"', 'Sex': 'female', 'Age': '15', 'SibSp': '0', 'Parch': '0', 'Survived': '1'}, {'PassengerId': '24', 'Pclass': '1', 'Name': 'Sloper, Mr. William Thompson', 'Sex': 'male', 'Age': '28', 'SibSp': '0', 'Parch': '0', 'Survived': '1'}, {'PassengerId': '25', 'Pclass': '3', 'Name': 'Palsson, Miss. Torborg Danira', 'Sex': 'female', 'Age': '8', 'SibSp': '3', 'Parch': '1', 'Survived': '0'}, {'PassengerId': '26', 'Pclass': '3', 'Name': 'Asplund, Mrs. Carl Oscar (Selma Augusta Emilia Johansson)', 'Sex': 'female', 'Age': '38', 'SibSp': '1', 'Parch': '5', 'Survived': '1'}, {'PassengerId': '27', 'Pclass': '3', 'Name': 'Emir, Mr. Farred Chehab', 'Sex': 'male', 'Age': '44', 'SibSp': '0', 'Parch': '0', 'Survived': '0'}, {'PassengerId': '28', 'Pclass': '1', 'Name': 'Fortune, Mr. Charles Alexander', 'Sex': 'male', 'Age': '19', 'SibSp': '3', 'Parch': '2', 'Survived': '0'}, {'PassengerId': '29', 'Pclass': '3', 'Name': 'O\\'Dwyer, Miss. Ellen \"Nellie\"', 'Sex': 'female', 'Age': '6', 'SibSp': '0', 'Parch': '0', 'Survived': '1'}, {'PassengerId': '30', 'Pclass': '3', 'Name': 'Todoroff, Mr. Lalio', 'Sex': 'male', 'Age': '78', 'SibSp': '0', 'Parch': '0', 'Survived': '0'}, {'PassengerId': '31', 'Pclass': '1', 'Name': 'Uruchurtu, Don. Manuel E', 'Sex': 'male', 'Age': '40', 'SibSp': '0', 'Parch': '0', 'Survived': '1'}, {'PassengerId': '32', 'Pclass': '1', 'Name': 'Spencer, Mrs. William Augustus (Marie Eugenie)', 'Sex': 'female', 'Age': '77', 'SibSp': '1', 'Parch': '0', 'Survived': '1'}, {'PassengerId': '33', 'Pclass': '3', 'Name': 'Glynn, Miss. Mary Agatha', 'Sex': 'female', 'Age': '63', 'SibSp': '0', 'Parch': '0', 'Survived': '1'}, {'PassengerId': '34', 'Pclass': '2', 'Name': 'Wheadon, Mr. Edward H', 'Sex': 'male', 'Age': '66', 'SibSp': '0', 'Parch': '0', 'Survived': '0'}, {'PassengerId': '35', 'Pclass': '1', 'Name': 'Meyer, Mr. Edgar Joseph', 'Sex': 'male', 'Age': '28', 'SibSp': '1', 'Parch': '0', 'Survived': '0'}, {'PassengerId': '36', 'Pclass': '1', 'Name': 'Holverson, Mr. Alexander Oskar', 'Sex': 'male', 'Age': '42', 'SibSp': '1', 'Parch': '0', 'Survived': '0'}, {'PassengerId': '37', 'Pclass': '3', 'Name': 'Mamee, Mr. Hanna', 'Sex': 'male', 'Age': '26', 'SibSp': '0', 'Parch': '0', 'Survived': '0'}, {'PassengerId': '38', 'Pclass': '3', 'Name': 'Cann, Mr. Ernest Charles', 'Sex': 'male', 'Age': '21', 'SibSp': '0', 'Parch': '0', 'Survived': '0'}, {'PassengerId': '39', 'Pclass': '3', 'Name': 'Vander Planke, Miss. Augusta Maria', 'Sex': 'female', 'Age': '18', 'SibSp': '2', 'Parch': '0', 'Survived': '0'}, {'PassengerId': '40', 'Pclass': '3', 'Name': 'Nicola-Yarred, Miss. Jamila', 'Sex': 'female', 'Age': '14', 'SibSp': '1', 'Parch': '0', 'Survived': '0'}, {'PassengerId': '41', 'Pclass': '3', 'Name': 'Ahlin, Mrs. Johan (Johanna Persdotter Larsson)', 'Sex': 'female', 'Age': '40', 'SibSp': '1', 'Parch': '0', 'Survived': '0'}, {'PassengerId': '42', 'Pclass': '2', 'Name': 'Turpin, Mrs. William John Robert (Dorothy Ann Wonnacott)', 'Sex': 'female', 'Age': '27', 'SibSp': '1', 'Parch': '0', 'Survived': '1'}, {'PassengerId': '43', 'Pclass': '3', 'Name': 'Kraeff, Mr. Theodor', 'Sex': 'male', 'Age': '22', 'SibSp': '0', 'Parch': '0', 'Survived': '0'}, {'PassengerId': '44', 'Pclass': '2', 'Name': 'Laroche, Miss. Simonne Marie Anne Andree', 'Sex': 'female', 'Age': '3', 'SibSp': '1', 'Parch': '2', 'Survived': '1'}, {'PassengerId': '45', 'Pclass': '3', 'Name': 'Devaney, Miss. Margaret Delia', 'Sex': 'female', 'Age': '19', 'SibSp': '0', 'Parch': '0', 'Survived': '1'}, {'PassengerId': '46', 'Pclass': '3', 'Name': 'Rogers, Mr. William John', 'Sex': 'male', 'Age': '37', 'SibSp': '0', 'Parch': '0', 'Survived': '0'}, {'PassengerId': '47', 'Pclass': '3', 'Name': 'Lennon, Mr. Denis', 'Sex': 'male', 'Age': '41', 'SibSp': '1', 'Parch': '0', 'Survived': '0'}, {'PassengerId': '48', 'Pclass': '3', 'Name': \"O'Driscoll, Miss. Bridget\", 'Sex': 'female', 'Age': '18', 'SibSp': '0', 'Parch': '0', 'Survived': '1'}, {'PassengerId': '49', 'Pclass': '3', 'Name': 'Samaan, Mr. Youssef', 'Sex': 'male', 'Age': '52', 'SibSp': '2', 'Parch': '0', 'Survived': '0'}, {'PassengerId': '50', 'Pclass': '3', 'Name': 'Arnold-Franchi, Mrs. Josef (Josefine Franchi)', 'Sex': 'female', 'Age': '18', 'SibSp': '1', 'Parch': '0', 'Survived': '0'}, {'PassengerId': '51', 'Pclass': '3', 'Name': 'Panula, Master. Juha Niilo', 'Sex': 'male', 'Age': '7', 'SibSp': '4', 'Parch': '1', 'Survived': '0'}, {'PassengerId': '52', 'Pclass': '3', 'Name': 'Nosworthy, Mr. Richard Cater', 'Sex': 'male', 'Age': '21', 'SibSp': '0', 'Parch': '0', 'Survived': '0'}, {'PassengerId': '53', 'Pclass': '1', 'Name': 'Harper, Mrs. Henry Sleeper (Myna Haxtun)', 'Sex': 'female', 'Age': '49', 'SibSp': '1', 'Parch': '0', 'Survived': '1'}, {'PassengerId': '54', 'Pclass': '2', 'Name': 'Faunthorpe, Mrs. Lizzie (Elizabeth Anne Wilkinson)', 'Sex': 'female', 'Age': '29', 'SibSp': '1', 'Parch': '0', 'Survived': '1'}, {'PassengerId': '55', 'Pclass': '1', 'Name': 'Ostby, Mr. Engelhart Cornelius', 'Sex': 'male', 'Age': '65', 'SibSp': '0', 'Parch': '1', 'Survived': '0'}, {'PassengerId': '56', 'Pclass': '1', 'Name': 'Woolner, Mr. Hugh', 'Sex': 'male', 'Age': '13', 'SibSp': '0', 'Parch': '0', 'Survived': '1'}, {'PassengerId': '57', 'Pclass': '2', 'Name': 'Rugg, Miss. Emily', 'Sex': 'female', 'Age': '21', 'SibSp': '0', 'Parch': '0', 'Survived': '1'}, {'PassengerId': '58', 'Pclass': '3', 'Name': 'Novel, Mr. Mansouer', 'Sex': 'male', 'Age': '28', 'SibSp': '0', 'Parch': '0', 'Survived': '0'}, {'PassengerId': '59', 'Pclass': '2', 'Name': 'West, Miss. Constance Mirium', 'Sex': 'female', 'Age': '5', 'SibSp': '1', 'Parch': '2', 'Survived': '1'}, {'PassengerId': '60', 'Pclass': '3', 'Name': 'Goodwin, Master. William Frederick', 'Sex': 'male', 'Age': '11', 'SibSp': '5', 'Parch': '2', 'Survived': '0'}, {'PassengerId': '61', 'Pclass': '3', 'Name': 'Sirayanian, Mr. Orsen', 'Sex': 'male', 'Age': '22', 'SibSp': '0', 'Parch': '0', 'Survived': '0'}, {'PassengerId': '62', 'Pclass': '1', 'Name': 'Icard, Miss. Amelie', 'Sex': 'female', 'Age': '38', 'SibSp': '0', 'Parch': '0', 'Survived': '1'}, {'PassengerId': '63', 'Pclass': '1', 'Name': 'Harris, Mr. Henry Birkhardt', 'Sex': 'male', 'Age': '45', 'SibSp': '1', 'Parch': '0', 'Survived': '0'}, {'PassengerId': '64', 'Pclass': '3', 'Name': 'Skoog, Master. Harald', 'Sex': 'male', 'Age': '4', 'SibSp': '3', 'Parch': '2', 'Survived': '0'}, {'PassengerId': '65', 'Pclass': '1', 'Name': 'Stewart, Mr. Albert A', 'Sex': 'male', 'Age': '57', 'SibSp': '0', 'Parch': '0', 'Survived': '0'}, {'PassengerId': '66', 'Pclass': '3', 'Name': 'Moubarek, Master. Gerios', 'Sex': 'male', 'Age': '33', 'SibSp': '1', 'Parch': '1', 'Survived': '1'}, {'PassengerId': '67', 'Pclass': '2', 'Name': 'Nye, Mrs. (Elizabeth Ramell)', 'Sex': 'female', 'Age': '29', 'SibSp': '0', 'Parch': '0', 'Survived': '1'}, {'PassengerId': '68', 'Pclass': '3', 'Name': 'Crease, Mr. Ernest James', 'Sex': 'male', 'Age': '19', 'SibSp': '0', 'Parch': '0', 'Survived': '0'}, {'PassengerId': '69', 'Pclass': '3', 'Name': 'Andersson, Miss. Erna Alexandra', 'Sex': 'female', 'Age': '17', 'SibSp': '4', 'Parch': '2', 'Survived': '1'}, {'PassengerId': '70', 'Pclass': '3', 'Name': 'Kink, Mr. Vincenz', 'Sex': 'male', 'Age': '26', 'SibSp': '2', 'Parch': '0', 'Survived': '0'}, {'PassengerId': '71', 'Pclass': '2', 'Name': 'Jenkin, Mr. Stephen Curnow', 'Sex': 'male', 'Age': '32', 'SibSp': '0', 'Parch': '0', 'Survived': '0'}, {'PassengerId': '72', 'Pclass': '3', 'Name': 'Goodwin, Miss. Lillian Amy', 'Sex': 'female', 'Age': '16', 'SibSp': '5', 'Parch': '2', 'Survived': '0'}, {'PassengerId': '73', 'Pclass': '2', 'Name': 'Hood, Mr. Ambrose Jr', 'Sex': 'male', 'Age': '21', 'SibSp': '0', 'Parch': '0', 'Survived': '0'}, {'PassengerId': '74', 'Pclass': '3', 'Name': 'Chronopoulos, Mr. Apostolos', 'Sex': 'male', 'Age': '26', 'SibSp': '1', 'Parch': '0', 'Survived': '0'}, {'PassengerId': '75', 'Pclass': '3', 'Name': 'Bing, Mr. Lee', 'Sex': 'male', 'Age': '32', 'SibSp': '0', 'Parch': '0', 'Survived': '0'}, {'PassengerId': '76', 'Pclass': '3', 'Name': 'Moen, Mr. Sigurd Hansen', 'Sex': 'male', 'Age': '25', 'SibSp': '0', 'Parch': '0', 'Survived': '0'}, {'PassengerId': '77', 'Pclass': '3', 'Name': 'Staneff, Mr. Ivan', 'Sex': 'male', 'Age': '27', 'SibSp': '0', 'Parch': '0', 'Survived': '0'}, {'PassengerId': '78', 'Pclass': '3', 'Name': 'Moutal, Mr. Rahamin Haim', 'Sex': 'male', 'Age': '22', 'SibSp': '0', 'Parch': '0', 'Survived': '0'}, {'PassengerId': '79', 'Pclass': '2', 'Name': 'Caldwell, Master. Alden Gates', 'Sex': 'male', 'Age': '1', 'SibSp': '0', 'Parch': '2', 'Survived': '1'}, {'PassengerId': '80', 'Pclass': '3', 'Name': 'Dowdell, Miss. Elizabeth', 'Sex': 'female', 'Age': '30', 'SibSp': '0', 'Parch': '0', 'Survived': '1'}, {'PassengerId': '81', 'Pclass': '3', 'Name': 'Waelens, Mr. Achille', 'Sex': 'male', 'Age': '22', 'SibSp': '0', 'Parch': '0', 'Survived': '0'}, {'PassengerId': '82', 'Pclass': '2', 'Name': 'Sheerlinck, Mr. Jan Baptist', 'Sex': 'male', 'Age': '29', 'SibSp': '0', 'Parch': '0', 'Survived': '0'}, {'PassengerId': '83', 'Pclass': '3', 'Name': 'McDermott, Miss. Brigdet Delia', 'Sex': 'female', 'Age': '57', 'SibSp': '0', 'Parch': '0', 'Survived': '1'}, {'PassengerId': '84', 'Pclass': '1', 'Name': 'Carrau, Mrs. Francisco M', 'Sex': 'female', 'Age': '28', 'SibSp': '0', 'Parch': '0', 'Survived': '1'}, {'PassengerId': '85', 'Pclass': '2', 'Name': 'Ilett, Miss. Bertha', 'Sex': 'female', 'Age': '17', 'SibSp': '0', 'Parch': '0', 'Survived': '1'}, {'PassengerId': '86', 'Pclass': '3', 'Name': 'Backstrom, Mrs. Karl Alfred (Maria Mathilda Gustafsson)', 'Sex': 'female', 'Age': '33', 'SibSp': '3', 'Parch': '0', 'Survived': '1'}, {'PassengerId': '87', 'Pclass': '3', 'Name': 'Ford, Mr. William Neal', 'Sex': 'male', 'Age': '16', 'SibSp': '1', 'Parch': '3', 'Survived': '0'}, {'PassengerId': '88', 'Pclass': '3', 'Name': 'Slocovski, Mr. Selman Francis', 'Sex': 'male', 'Age': '31', 'SibSp': '0', 'Parch': '0', 'Survived': '0'}, {'PassengerId': '89', 'Pclass': '1', 'Name': 'Fortune, Miss. Mabel Helen', 'Sex': 'female', 'Age': '23', 'SibSp': '3', 'Parch': '2', 'Survived': '1'}, {'PassengerId': '90', 'Pclass': '3', 'Name': 'Celotti, Mr. Francesco', 'Sex': 'male', 'Age': '24', 'SibSp': '0', 'Parch': '0', 'Survived': '0'}, {'PassengerId': '91', 'Pclass': '3', 'Name': 'Christmann, Mr. Emil', 'Sex': 'male', 'Age': '29', 'SibSp': '0', 'Parch': '0', 'Survived': '0'}, {'PassengerId': '92', 'Pclass': '3', 'Name': 'Andreasson, Mr. Paul Edvin', 'Sex': 'male', 'Age': '20', 'SibSp': '0', 'Parch': '0', 'Survived': '0'}, {'PassengerId': '93', 'Pclass': '1', 'Name': 'Chaffee, Mr. Herbert Fuller', 'Sex': 'male', 'Age': '46', 'SibSp': '1', 'Parch': '0', 'Survived': '0'}, {'PassengerId': '94', 'Pclass': '3', 'Name': 'Dean, Mr. Bertram Frank', 'Sex': 'male', 'Age': '26', 'SibSp': '1', 'Parch': '2', 'Survived': '0'}, {'PassengerId': '95', 'Pclass': '3', 'Name': 'Coxon, Mr. Daniel', 'Sex': 'male', 'Age': '59', 'SibSp': '0', 'Parch': '0', 'Survived': '0'}, {'PassengerId': '96', 'Pclass': '3', 'Name': 'Shorney, Mr. Charles Joseph', 'Sex': 'male', 'Age': '44', 'SibSp': '0', 'Parch': '0', 'Survived': '0'}, {'PassengerId': '97', 'Pclass': '1', 'Name': 'Goldschmidt, Mr. George B', 'Sex': 'male', 'Age': '71', 'SibSp': '0', 'Parch': '0', 'Survived': '0'}, {'PassengerId': '98', 'Pclass': '1', 'Name': 'Greenfield, Mr. William Bertram', 'Sex': 'male', 'Age': '23', 'SibSp': '0', 'Parch': '1', 'Survived': '1'}, {'PassengerId': '99', 'Pclass': '2', 'Name': 'Doling, Mrs. John T (Ada Julia Bone)', 'Sex': 'female', 'Age': '34', 'SibSp': '0', 'Parch': '1', 'Survived': '1'}, {'PassengerId': '100', 'Pclass': '2', 'Name': 'Kantor, Mr. Sinai', 'Sex': 'male', 'Age': '34', 'SibSp': '1', 'Parch': '0', 'Survived': '0'}]\n",
      "2\n",
      "{'PassengerId': '1', 'Pclass': '3', 'Name': 'Braund, Mr. Owen Harris', 'Sex': 'male', 'Age': '22', 'SibSp': '1', 'Parch': '0', 'Survived': '0'}\n",
      "{'PassengerId': '2', 'Pclass': '1', 'Name': 'Cumings, Mrs. John Bradley (Florence Briggs Thayer)', 'Sex': 'female', 'Age': '38', 'SibSp': '1', 'Parch': '0', 'Survived': '1'}\n",
      "{'PassengerId': '3', 'Pclass': '3', 'Name': 'Heikkinen, Miss. Laina', 'Sex': 'female', 'Age': '26', 'SibSp': '0', 'Parch': '0', 'Survived': '1'}\n",
      "{'PassengerId': '4', 'Pclass': '1', 'Name': 'Futrelle, Mrs. Jacques Heath (Lily May Peel)', 'Sex': 'female', 'Age': '35', 'SibSp': '1', 'Parch': '0', 'Survived': '1'}\n",
      "{'PassengerId': '5', 'Pclass': '3', 'Name': 'Allen, Mr. William Henry', 'Sex': 'male', 'Age': '35', 'SibSp': '0', 'Parch': '0', 'Survived': '0'}\n",
      "{'PassengerId': '6', 'Pclass': '3', 'Name': 'Moran, Mr. James', 'Sex': 'male', 'Age': '34', 'SibSp': '0', 'Parch': '0', 'Survived': '0'}\n",
      "{'PassengerId': '7', 'Pclass': '1', 'Name': 'McCarthy, Mr. Timothy J', 'Sex': 'male', 'Age': '54', 'SibSp': '0', 'Parch': '0', 'Survived': '0'}\n",
      "{'PassengerId': '8', 'Pclass': '3', 'Name': 'Palsson, Master. Gosta Leonard', 'Sex': 'male', 'Age': '2', 'SibSp': '3', 'Parch': '1', 'Survived': '0'}\n",
      "{'PassengerId': '9', 'Pclass': '3', 'Name': 'Johnson, Mrs. Oscar W (Elisabeth Vilhelmina Berg)', 'Sex': 'female', 'Age': '27', 'SibSp': '0', 'Parch': '2', 'Survived': '1'}\n",
      "{'PassengerId': '10', 'Pclass': '2', 'Name': 'Nasser, Mrs. Nicholas (Adele Achem)', 'Sex': 'female', 'Age': '14', 'SibSp': '1', 'Parch': '0', 'Survived': '1'}\n",
      "{'PassengerId': '11', 'Pclass': '3', 'Name': 'Sandstrom, Miss. Marguerite Rut', 'Sex': 'female', 'Age': '4', 'SibSp': '1', 'Parch': '1', 'Survived': '1'}\n",
      "{'PassengerId': '12', 'Pclass': '1', 'Name': 'Bonnell, Miss. Elizabeth', 'Sex': 'female', 'Age': '58', 'SibSp': '0', 'Parch': '0', 'Survived': '1'}\n",
      "{'PassengerId': '13', 'Pclass': '3', 'Name': 'Saundercock, Mr. William Henry', 'Sex': 'male', 'Age': '20', 'SibSp': '0', 'Parch': '0', 'Survived': '0'}\n",
      "{'PassengerId': '14', 'Pclass': '3', 'Name': 'Andersson, Mr. Anders Johan', 'Sex': 'male', 'Age': '39', 'SibSp': '1', 'Parch': '5', 'Survived': '0'}\n",
      "{'PassengerId': '15', 'Pclass': '3', 'Name': 'Vestrom, Miss. Hulda Amanda Adolfina', 'Sex': 'female', 'Age': '14', 'SibSp': '0', 'Parch': '0', 'Survived': '1'}\n",
      "{'PassengerId': '16', 'Pclass': '2', 'Name': 'Hewlett, Mrs. (Mary D Kingcome)', 'Sex': 'female', 'Age': '55', 'SibSp': '0', 'Parch': '0', 'Survived': '1'}\n",
      "{'PassengerId': '17', 'Pclass': '3', 'Name': 'Rice, Master. Eugene', 'Sex': 'male', 'Age': '2', 'SibSp': '4', 'Parch': '1', 'Survived': '0'}\n",
      "{'PassengerId': '18', 'Pclass': '2', 'Name': 'Williams, Mr. Charles Eugene', 'Sex': 'male', 'Age': '12', 'SibSp': '0', 'Parch': '0', 'Survived': '1'}\n",
      "{'PassengerId': '19', 'Pclass': '3', 'Name': 'Vander Planke, Mrs. Julius (Emelia Maria Vandemoortele)', 'Sex': 'female', 'Age': '31', 'SibSp': '1', 'Parch': '0', 'Survived': '0'}\n",
      "{'PassengerId': '20', 'Pclass': '3', 'Name': 'Masselmani, Mrs. Fatima', 'Sex': 'female', 'Age': '63', 'SibSp': '0', 'Parch': '0', 'Survived': '1'}\n",
      "{'PassengerId': '21', 'Pclass': '2', 'Name': 'Fynney, Mr. Joseph J', 'Sex': 'male', 'Age': '35', 'SibSp': '0', 'Parch': '0', 'Survived': '0'}\n",
      "{'PassengerId': '22', 'Pclass': '2', 'Name': 'Beesley, Mr. Lawrence', 'Sex': 'male', 'Age': '34', 'SibSp': '0', 'Parch': '0', 'Survived': '0'}\n",
      "{'PassengerId': '23', 'Pclass': '3', 'Name': 'McGowan, Miss. Anna \"Annie\"', 'Sex': 'female', 'Age': '15', 'SibSp': '0', 'Parch': '0', 'Survived': '1'}\n",
      "{'PassengerId': '24', 'Pclass': '1', 'Name': 'Sloper, Mr. William Thompson', 'Sex': 'male', 'Age': '28', 'SibSp': '0', 'Parch': '0', 'Survived': '1'}\n",
      "{'PassengerId': '25', 'Pclass': '3', 'Name': 'Palsson, Miss. Torborg Danira', 'Sex': 'female', 'Age': '8', 'SibSp': '3', 'Parch': '1', 'Survived': '0'}\n",
      "{'PassengerId': '26', 'Pclass': '3', 'Name': 'Asplund, Mrs. Carl Oscar (Selma Augusta Emilia Johansson)', 'Sex': 'female', 'Age': '38', 'SibSp': '1', 'Parch': '5', 'Survived': '1'}\n",
      "{'PassengerId': '27', 'Pclass': '3', 'Name': 'Emir, Mr. Farred Chehab', 'Sex': 'male', 'Age': '44', 'SibSp': '0', 'Parch': '0', 'Survived': '0'}\n",
      "{'PassengerId': '28', 'Pclass': '1', 'Name': 'Fortune, Mr. Charles Alexander', 'Sex': 'male', 'Age': '19', 'SibSp': '3', 'Parch': '2', 'Survived': '0'}\n",
      "{'PassengerId': '29', 'Pclass': '3', 'Name': 'O\\'Dwyer, Miss. Ellen \"Nellie\"', 'Sex': 'female', 'Age': '6', 'SibSp': '0', 'Parch': '0', 'Survived': '1'}\n",
      "{'PassengerId': '30', 'Pclass': '3', 'Name': 'Todoroff, Mr. Lalio', 'Sex': 'male', 'Age': '78', 'SibSp': '0', 'Parch': '0', 'Survived': '0'}\n",
      "{'PassengerId': '31', 'Pclass': '1', 'Name': 'Uruchurtu, Don. Manuel E', 'Sex': 'male', 'Age': '40', 'SibSp': '0', 'Parch': '0', 'Survived': '1'}\n",
      "{'PassengerId': '32', 'Pclass': '1', 'Name': 'Spencer, Mrs. William Augustus (Marie Eugenie)', 'Sex': 'female', 'Age': '77', 'SibSp': '1', 'Parch': '0', 'Survived': '1'}\n",
      "{'PassengerId': '33', 'Pclass': '3', 'Name': 'Glynn, Miss. Mary Agatha', 'Sex': 'female', 'Age': '63', 'SibSp': '0', 'Parch': '0', 'Survived': '1'}\n",
      "{'PassengerId': '34', 'Pclass': '2', 'Name': 'Wheadon, Mr. Edward H', 'Sex': 'male', 'Age': '66', 'SibSp': '0', 'Parch': '0', 'Survived': '0'}\n",
      "{'PassengerId': '35', 'Pclass': '1', 'Name': 'Meyer, Mr. Edgar Joseph', 'Sex': 'male', 'Age': '28', 'SibSp': '1', 'Parch': '0', 'Survived': '0'}\n",
      "{'PassengerId': '36', 'Pclass': '1', 'Name': 'Holverson, Mr. Alexander Oskar', 'Sex': 'male', 'Age': '42', 'SibSp': '1', 'Parch': '0', 'Survived': '0'}\n",
      "{'PassengerId': '37', 'Pclass': '3', 'Name': 'Mamee, Mr. Hanna', 'Sex': 'male', 'Age': '26', 'SibSp': '0', 'Parch': '0', 'Survived': '0'}\n",
      "{'PassengerId': '38', 'Pclass': '3', 'Name': 'Cann, Mr. Ernest Charles', 'Sex': 'male', 'Age': '21', 'SibSp': '0', 'Parch': '0', 'Survived': '0'}\n",
      "{'PassengerId': '39', 'Pclass': '3', 'Name': 'Vander Planke, Miss. Augusta Maria', 'Sex': 'female', 'Age': '18', 'SibSp': '2', 'Parch': '0', 'Survived': '0'}\n",
      "{'PassengerId': '40', 'Pclass': '3', 'Name': 'Nicola-Yarred, Miss. Jamila', 'Sex': 'female', 'Age': '14', 'SibSp': '1', 'Parch': '0', 'Survived': '0'}\n",
      "{'PassengerId': '41', 'Pclass': '3', 'Name': 'Ahlin, Mrs. Johan (Johanna Persdotter Larsson)', 'Sex': 'female', 'Age': '40', 'SibSp': '1', 'Parch': '0', 'Survived': '0'}\n",
      "{'PassengerId': '42', 'Pclass': '2', 'Name': 'Turpin, Mrs. William John Robert (Dorothy Ann Wonnacott)', 'Sex': 'female', 'Age': '27', 'SibSp': '1', 'Parch': '0', 'Survived': '1'}\n",
      "{'PassengerId': '43', 'Pclass': '3', 'Name': 'Kraeff, Mr. Theodor', 'Sex': 'male', 'Age': '22', 'SibSp': '0', 'Parch': '0', 'Survived': '0'}\n",
      "{'PassengerId': '44', 'Pclass': '2', 'Name': 'Laroche, Miss. Simonne Marie Anne Andree', 'Sex': 'female', 'Age': '3', 'SibSp': '1', 'Parch': '2', 'Survived': '1'}\n",
      "{'PassengerId': '45', 'Pclass': '3', 'Name': 'Devaney, Miss. Margaret Delia', 'Sex': 'female', 'Age': '19', 'SibSp': '0', 'Parch': '0', 'Survived': '1'}\n",
      "{'PassengerId': '46', 'Pclass': '3', 'Name': 'Rogers, Mr. William John', 'Sex': 'male', 'Age': '37', 'SibSp': '0', 'Parch': '0', 'Survived': '0'}\n",
      "{'PassengerId': '47', 'Pclass': '3', 'Name': 'Lennon, Mr. Denis', 'Sex': 'male', 'Age': '41', 'SibSp': '1', 'Parch': '0', 'Survived': '0'}\n",
      "{'PassengerId': '48', 'Pclass': '3', 'Name': \"O'Driscoll, Miss. Bridget\", 'Sex': 'female', 'Age': '18', 'SibSp': '0', 'Parch': '0', 'Survived': '1'}\n",
      "{'PassengerId': '49', 'Pclass': '3', 'Name': 'Samaan, Mr. Youssef', 'Sex': 'male', 'Age': '52', 'SibSp': '2', 'Parch': '0', 'Survived': '0'}\n",
      "{'PassengerId': '50', 'Pclass': '3', 'Name': 'Arnold-Franchi, Mrs. Josef (Josefine Franchi)', 'Sex': 'female', 'Age': '18', 'SibSp': '1', 'Parch': '0', 'Survived': '0'}\n",
      "{'PassengerId': '51', 'Pclass': '3', 'Name': 'Panula, Master. Juha Niilo', 'Sex': 'male', 'Age': '7', 'SibSp': '4', 'Parch': '1', 'Survived': '0'}\n",
      "{'PassengerId': '52', 'Pclass': '3', 'Name': 'Nosworthy, Mr. Richard Cater', 'Sex': 'male', 'Age': '21', 'SibSp': '0', 'Parch': '0', 'Survived': '0'}\n",
      "{'PassengerId': '53', 'Pclass': '1', 'Name': 'Harper, Mrs. Henry Sleeper (Myna Haxtun)', 'Sex': 'female', 'Age': '49', 'SibSp': '1', 'Parch': '0', 'Survived': '1'}\n",
      "{'PassengerId': '54', 'Pclass': '2', 'Name': 'Faunthorpe, Mrs. Lizzie (Elizabeth Anne Wilkinson)', 'Sex': 'female', 'Age': '29', 'SibSp': '1', 'Parch': '0', 'Survived': '1'}\n",
      "{'PassengerId': '55', 'Pclass': '1', 'Name': 'Ostby, Mr. Engelhart Cornelius', 'Sex': 'male', 'Age': '65', 'SibSp': '0', 'Parch': '1', 'Survived': '0'}\n",
      "{'PassengerId': '56', 'Pclass': '1', 'Name': 'Woolner, Mr. Hugh', 'Sex': 'male', 'Age': '13', 'SibSp': '0', 'Parch': '0', 'Survived': '1'}\n",
      "{'PassengerId': '57', 'Pclass': '2', 'Name': 'Rugg, Miss. Emily', 'Sex': 'female', 'Age': '21', 'SibSp': '0', 'Parch': '0', 'Survived': '1'}\n",
      "{'PassengerId': '58', 'Pclass': '3', 'Name': 'Novel, Mr. Mansouer', 'Sex': 'male', 'Age': '28', 'SibSp': '0', 'Parch': '0', 'Survived': '0'}\n",
      "{'PassengerId': '59', 'Pclass': '2', 'Name': 'West, Miss. Constance Mirium', 'Sex': 'female', 'Age': '5', 'SibSp': '1', 'Parch': '2', 'Survived': '1'}\n",
      "{'PassengerId': '60', 'Pclass': '3', 'Name': 'Goodwin, Master. William Frederick', 'Sex': 'male', 'Age': '11', 'SibSp': '5', 'Parch': '2', 'Survived': '0'}\n",
      "{'PassengerId': '61', 'Pclass': '3', 'Name': 'Sirayanian, Mr. Orsen', 'Sex': 'male', 'Age': '22', 'SibSp': '0', 'Parch': '0', 'Survived': '0'}\n",
      "{'PassengerId': '62', 'Pclass': '1', 'Name': 'Icard, Miss. Amelie', 'Sex': 'female', 'Age': '38', 'SibSp': '0', 'Parch': '0', 'Survived': '1'}\n",
      "{'PassengerId': '63', 'Pclass': '1', 'Name': 'Harris, Mr. Henry Birkhardt', 'Sex': 'male', 'Age': '45', 'SibSp': '1', 'Parch': '0', 'Survived': '0'}\n",
      "{'PassengerId': '64', 'Pclass': '3', 'Name': 'Skoog, Master. Harald', 'Sex': 'male', 'Age': '4', 'SibSp': '3', 'Parch': '2', 'Survived': '0'}\n",
      "{'PassengerId': '65', 'Pclass': '1', 'Name': 'Stewart, Mr. Albert A', 'Sex': 'male', 'Age': '57', 'SibSp': '0', 'Parch': '0', 'Survived': '0'}\n",
      "{'PassengerId': '66', 'Pclass': '3', 'Name': 'Moubarek, Master. Gerios', 'Sex': 'male', 'Age': '33', 'SibSp': '1', 'Parch': '1', 'Survived': '1'}\n",
      "{'PassengerId': '67', 'Pclass': '2', 'Name': 'Nye, Mrs. (Elizabeth Ramell)', 'Sex': 'female', 'Age': '29', 'SibSp': '0', 'Parch': '0', 'Survived': '1'}\n",
      "{'PassengerId': '68', 'Pclass': '3', 'Name': 'Crease, Mr. Ernest James', 'Sex': 'male', 'Age': '19', 'SibSp': '0', 'Parch': '0', 'Survived': '0'}\n",
      "{'PassengerId': '69', 'Pclass': '3', 'Name': 'Andersson, Miss. Erna Alexandra', 'Sex': 'female', 'Age': '17', 'SibSp': '4', 'Parch': '2', 'Survived': '1'}\n",
      "{'PassengerId': '70', 'Pclass': '3', 'Name': 'Kink, Mr. Vincenz', 'Sex': 'male', 'Age': '26', 'SibSp': '2', 'Parch': '0', 'Survived': '0'}\n",
      "{'PassengerId': '71', 'Pclass': '2', 'Name': 'Jenkin, Mr. Stephen Curnow', 'Sex': 'male', 'Age': '32', 'SibSp': '0', 'Parch': '0', 'Survived': '0'}\n",
      "{'PassengerId': '72', 'Pclass': '3', 'Name': 'Goodwin, Miss. Lillian Amy', 'Sex': 'female', 'Age': '16', 'SibSp': '5', 'Parch': '2', 'Survived': '0'}\n",
      "{'PassengerId': '73', 'Pclass': '2', 'Name': 'Hood, Mr. Ambrose Jr', 'Sex': 'male', 'Age': '21', 'SibSp': '0', 'Parch': '0', 'Survived': '0'}\n",
      "{'PassengerId': '74', 'Pclass': '3', 'Name': 'Chronopoulos, Mr. Apostolos', 'Sex': 'male', 'Age': '26', 'SibSp': '1', 'Parch': '0', 'Survived': '0'}\n",
      "{'PassengerId': '75', 'Pclass': '3', 'Name': 'Bing, Mr. Lee', 'Sex': 'male', 'Age': '32', 'SibSp': '0', 'Parch': '0', 'Survived': '0'}\n",
      "{'PassengerId': '76', 'Pclass': '3', 'Name': 'Moen, Mr. Sigurd Hansen', 'Sex': 'male', 'Age': '25', 'SibSp': '0', 'Parch': '0', 'Survived': '0'}\n",
      "{'PassengerId': '77', 'Pclass': '3', 'Name': 'Staneff, Mr. Ivan', 'Sex': 'male', 'Age': '27', 'SibSp': '0', 'Parch': '0', 'Survived': '0'}\n",
      "{'PassengerId': '78', 'Pclass': '3', 'Name': 'Moutal, Mr. Rahamin Haim', 'Sex': 'male', 'Age': '22', 'SibSp': '0', 'Parch': '0', 'Survived': '0'}\n",
      "{'PassengerId': '79', 'Pclass': '2', 'Name': 'Caldwell, Master. Alden Gates', 'Sex': 'male', 'Age': '1', 'SibSp': '0', 'Parch': '2', 'Survived': '1'}\n",
      "{'PassengerId': '80', 'Pclass': '3', 'Name': 'Dowdell, Miss. Elizabeth', 'Sex': 'female', 'Age': '30', 'SibSp': '0', 'Parch': '0', 'Survived': '1'}\n",
      "{'PassengerId': '81', 'Pclass': '3', 'Name': 'Waelens, Mr. Achille', 'Sex': 'male', 'Age': '22', 'SibSp': '0', 'Parch': '0', 'Survived': '0'}\n",
      "{'PassengerId': '82', 'Pclass': '2', 'Name': 'Sheerlinck, Mr. Jan Baptist', 'Sex': 'male', 'Age': '29', 'SibSp': '0', 'Parch': '0', 'Survived': '0'}\n",
      "{'PassengerId': '83', 'Pclass': '3', 'Name': 'McDermott, Miss. Brigdet Delia', 'Sex': 'female', 'Age': '57', 'SibSp': '0', 'Parch': '0', 'Survived': '1'}\n",
      "{'PassengerId': '84', 'Pclass': '1', 'Name': 'Carrau, Mrs. Francisco M', 'Sex': 'female', 'Age': '28', 'SibSp': '0', 'Parch': '0', 'Survived': '1'}\n",
      "{'PassengerId': '85', 'Pclass': '2', 'Name': 'Ilett, Miss. Bertha', 'Sex': 'female', 'Age': '17', 'SibSp': '0', 'Parch': '0', 'Survived': '1'}\n",
      "{'PassengerId': '86', 'Pclass': '3', 'Name': 'Backstrom, Mrs. Karl Alfred (Maria Mathilda Gustafsson)', 'Sex': 'female', 'Age': '33', 'SibSp': '3', 'Parch': '0', 'Survived': '1'}\n",
      "{'PassengerId': '87', 'Pclass': '3', 'Name': 'Ford, Mr. William Neal', 'Sex': 'male', 'Age': '16', 'SibSp': '1', 'Parch': '3', 'Survived': '0'}\n",
      "{'PassengerId': '88', 'Pclass': '3', 'Name': 'Slocovski, Mr. Selman Francis', 'Sex': 'male', 'Age': '31', 'SibSp': '0', 'Parch': '0', 'Survived': '0'}\n",
      "{'PassengerId': '89', 'Pclass': '1', 'Name': 'Fortune, Miss. Mabel Helen', 'Sex': 'female', 'Age': '23', 'SibSp': '3', 'Parch': '2', 'Survived': '1'}\n",
      "{'PassengerId': '90', 'Pclass': '3', 'Name': 'Celotti, Mr. Francesco', 'Sex': 'male', 'Age': '24', 'SibSp': '0', 'Parch': '0', 'Survived': '0'}\n",
      "{'PassengerId': '91', 'Pclass': '3', 'Name': 'Christmann, Mr. Emil', 'Sex': 'male', 'Age': '29', 'SibSp': '0', 'Parch': '0', 'Survived': '0'}\n",
      "{'PassengerId': '92', 'Pclass': '3', 'Name': 'Andreasson, Mr. Paul Edvin', 'Sex': 'male', 'Age': '20', 'SibSp': '0', 'Parch': '0', 'Survived': '0'}\n",
      "{'PassengerId': '93', 'Pclass': '1', 'Name': 'Chaffee, Mr. Herbert Fuller', 'Sex': 'male', 'Age': '46', 'SibSp': '1', 'Parch': '0', 'Survived': '0'}\n",
      "{'PassengerId': '94', 'Pclass': '3', 'Name': 'Dean, Mr. Bertram Frank', 'Sex': 'male', 'Age': '26', 'SibSp': '1', 'Parch': '2', 'Survived': '0'}\n",
      "{'PassengerId': '95', 'Pclass': '3', 'Name': 'Coxon, Mr. Daniel', 'Sex': 'male', 'Age': '59', 'SibSp': '0', 'Parch': '0', 'Survived': '0'}\n",
      "{'PassengerId': '96', 'Pclass': '3', 'Name': 'Shorney, Mr. Charles Joseph', 'Sex': 'male', 'Age': '44', 'SibSp': '0', 'Parch': '0', 'Survived': '0'}\n",
      "{'PassengerId': '97', 'Pclass': '1', 'Name': 'Goldschmidt, Mr. George B', 'Sex': 'male', 'Age': '71', 'SibSp': '0', 'Parch': '0', 'Survived': '0'}\n",
      "{'PassengerId': '98', 'Pclass': '1', 'Name': 'Greenfield, Mr. William Bertram', 'Sex': 'male', 'Age': '23', 'SibSp': '0', 'Parch': '1', 'Survived': '1'}\n",
      "{'PassengerId': '99', 'Pclass': '2', 'Name': 'Doling, Mrs. John T (Ada Julia Bone)', 'Sex': 'female', 'Age': '34', 'SibSp': '0', 'Parch': '1', 'Survived': '1'}\n",
      "{'PassengerId': '100', 'Pclass': '2', 'Name': 'Kantor, Mr. Sinai', 'Sex': 'male', 'Age': '34', 'SibSp': '1', 'Parch': '0', 'Survived': '0'}\n",
      "{'id': ['1', '2', '3', '4', '5', '6', '7', '8', '9', '10', '11', '12', '13', '14', '15', '16', '17', '18', '19', '20', '21', '22', '23', '24', '25', '26', '27', '28', '29', '30', '31', '32', '33', '34', '35', '36', '37', '38', '39', '40', '41', '42', '43', '44', '45', '46', '47', '48', '49', '50', '51', '52', '53', '54', '55', '56', '57', '58', '59', '60', '61', '62', '63', '64', '65', '66', '67', '68', '69', '70', '71', '72', '73', '74', '75', '76', '77', '78', '79', '80', '81', '82', '83', '84', '85', '86', '87', '88', '89', '90', '91', '92', '93', '94', '95', '96', '97', '98', '99', '100'], 'p_class': ['3', '1', '3', '1', '3', '3', '1', '3', '3', '2', '3', '1', '3', '3', '3', '2', '3', '2', '3', '3', '2', '2', '3', '1', '3', '3', '3', '1', '3', '3', '1', '1', '3', '2', '1', '1', '3', '3', '3', '3', '3', '2', '3', '2', '3', '3', '3', '3', '3', '3', '3', '3', '1', '2', '1', '1', '2', '3', '2', '3', '3', '1', '1', '3', '1', '3', '2', '3', '3', '3', '2', '3', '2', '3', '3', '3', '3', '3', '2', '3', '3', '2', '3', '1', '2', '3', '3', '3', '1', '3', '3', '3', '1', '3', '3', '3', '1', '1', '2', '2'], 'name': ['Braund, Mr. Owen Harris', 'Cumings, Mrs. John Bradley (Florence Briggs Thayer)', 'Heikkinen, Miss. Laina', 'Futrelle, Mrs. Jacques Heath (Lily May Peel)', 'Allen, Mr. William Henry', 'Moran, Mr. James', 'McCarthy, Mr. Timothy J', 'Palsson, Master. Gosta Leonard', 'Johnson, Mrs. Oscar W (Elisabeth Vilhelmina Berg)', 'Nasser, Mrs. Nicholas (Adele Achem)', 'Sandstrom, Miss. Marguerite Rut', 'Bonnell, Miss. Elizabeth', 'Saundercock, Mr. William Henry', 'Andersson, Mr. Anders Johan', 'Vestrom, Miss. Hulda Amanda Adolfina', 'Hewlett, Mrs. (Mary D Kingcome)', 'Rice, Master. Eugene', 'Williams, Mr. Charles Eugene', 'Vander Planke, Mrs. Julius (Emelia Maria Vandemoortele)', 'Masselmani, Mrs. Fatima', 'Fynney, Mr. Joseph J', 'Beesley, Mr. Lawrence', 'McGowan, Miss. Anna \"Annie\"', 'Sloper, Mr. William Thompson', 'Palsson, Miss. Torborg Danira', 'Asplund, Mrs. Carl Oscar (Selma Augusta Emilia Johansson)', 'Emir, Mr. Farred Chehab', 'Fortune, Mr. Charles Alexander', 'O\\'Dwyer, Miss. Ellen \"Nellie\"', 'Todoroff, Mr. Lalio', 'Uruchurtu, Don. Manuel E', 'Spencer, Mrs. William Augustus (Marie Eugenie)', 'Glynn, Miss. Mary Agatha', 'Wheadon, Mr. Edward H', 'Meyer, Mr. Edgar Joseph', 'Holverson, Mr. Alexander Oskar', 'Mamee, Mr. Hanna', 'Cann, Mr. Ernest Charles', 'Vander Planke, Miss. Augusta Maria', 'Nicola-Yarred, Miss. Jamila', 'Ahlin, Mrs. Johan (Johanna Persdotter Larsson)', 'Turpin, Mrs. William John Robert (Dorothy Ann Wonnacott)', 'Kraeff, Mr. Theodor', 'Laroche, Miss. Simonne Marie Anne Andree', 'Devaney, Miss. Margaret Delia', 'Rogers, Mr. William John', 'Lennon, Mr. Denis', \"O'Driscoll, Miss. Bridget\", 'Samaan, Mr. Youssef', 'Arnold-Franchi, Mrs. Josef (Josefine Franchi)', 'Panula, Master. Juha Niilo', 'Nosworthy, Mr. Richard Cater', 'Harper, Mrs. Henry Sleeper (Myna Haxtun)', 'Faunthorpe, Mrs. Lizzie (Elizabeth Anne Wilkinson)', 'Ostby, Mr. Engelhart Cornelius', 'Woolner, Mr. Hugh', 'Rugg, Miss. Emily', 'Novel, Mr. Mansouer', 'West, Miss. Constance Mirium', 'Goodwin, Master. William Frederick', 'Sirayanian, Mr. Orsen', 'Icard, Miss. Amelie', 'Harris, Mr. Henry Birkhardt', 'Skoog, Master. Harald', 'Stewart, Mr. Albert A', 'Moubarek, Master. Gerios', 'Nye, Mrs. (Elizabeth Ramell)', 'Crease, Mr. Ernest James', 'Andersson, Miss. Erna Alexandra', 'Kink, Mr. Vincenz', 'Jenkin, Mr. Stephen Curnow', 'Goodwin, Miss. Lillian Amy', 'Hood, Mr. Ambrose Jr', 'Chronopoulos, Mr. Apostolos', 'Bing, Mr. Lee', 'Moen, Mr. Sigurd Hansen', 'Staneff, Mr. Ivan', 'Moutal, Mr. Rahamin Haim', 'Caldwell, Master. Alden Gates', 'Dowdell, Miss. Elizabeth', 'Waelens, Mr. Achille', 'Sheerlinck, Mr. Jan Baptist', 'McDermott, Miss. Brigdet Delia', 'Carrau, Mrs. Francisco M', 'Ilett, Miss. Bertha', 'Backstrom, Mrs. Karl Alfred (Maria Mathilda Gustafsson)', 'Ford, Mr. William Neal', 'Slocovski, Mr. Selman Francis', 'Fortune, Miss. Mabel Helen', 'Celotti, Mr. Francesco', 'Christmann, Mr. Emil', 'Andreasson, Mr. Paul Edvin', 'Chaffee, Mr. Herbert Fuller', 'Dean, Mr. Bertram Frank', 'Coxon, Mr. Daniel', 'Shorney, Mr. Charles Joseph', 'Goldschmidt, Mr. George B', 'Greenfield, Mr. William Bertram', 'Doling, Mrs. John T (Ada Julia Bone)', 'Kantor, Mr. Sinai'], 'sex': ['male', 'female', 'female', 'female', 'male', 'male', 'male', 'male', 'female', 'female', 'female', 'female', 'male', 'male', 'female', 'female', 'male', 'male', 'female', 'female', 'male', 'male', 'female', 'male', 'female', 'female', 'male', 'male', 'female', 'male', 'male', 'female', 'female', 'male', 'male', 'male', 'male', 'male', 'female', 'female', 'female', 'female', 'male', 'female', 'female', 'male', 'male', 'female', 'male', 'female', 'male', 'male', 'female', 'female', 'male', 'male', 'female', 'male', 'female', 'male', 'male', 'female', 'male', 'male', 'male', 'male', 'female', 'male', 'female', 'male', 'male', 'female', 'male', 'male', 'male', 'male', 'male', 'male', 'male', 'female', 'male', 'male', 'female', 'female', 'female', 'female', 'male', 'male', 'female', 'male', 'male', 'male', 'male', 'male', 'male', 'male', 'male', 'male', 'female', 'male'], 'age': ['22', '38', '26', '35', '35', '34', '54', '2', '27', '14', '4', '58', '20', '39', '14', '55', '2', '12', '31', '63', '35', '34', '15', '28', '8', '38', '44', '19', '6', '78', '40', '77', '63', '66', '28', '42', '26', '21', '18', '14', '40', '27', '22', '3', '19', '37', '41', '18', '52', '18', '7', '21', '49', '29', '65', '13', '21', '28', '5', '11', '22', '38', '45', '4', '57', '33', '29', '19', '17', '26', '32', '16', '21', '26', '32', '25', '27', '22', '1', '30', '22', '29', '57', '28', '17', '33', '16', '31', '23', '24', '29', '20', '46', '26', '59', '44', '71', '23', '34', '34'], 'siblings': ['1', '1', '0', '1', '0', '0', '0', '3', '0', '1', '1', '0', '0', '1', '0', '0', '4', '0', '1', '0', '0', '0', '0', '0', '3', '1', '0', '3', '0', '0', '0', '1', '0', '0', '1', '1', '0', '0', '2', '1', '1', '1', '0', '1', '0', '0', '1', '0', '2', '1', '4', '0', '1', '1', '0', '0', '0', '0', '1', '5', '0', '0', '1', '3', '0', '1', '0', '0', '4', '2', '0', '5', '0', '1', '0', '0', '0', '0', '0', '0', '0', '0', '0', '0', '0', '3', '1', '0', '3', '0', '0', '0', '1', '1', '0', '0', '0', '0', '0', '1'], 'children': ['0', '0', '0', '0', '0', '0', '0', '1', '2', '0', '1', '0', '0', '5', '0', '0', '1', '0', '0', '0', '0', '0', '0', '0', '1', '5', '0', '2', '0', '0', '0', '0', '0', '0', '0', '0', '0', '0', '0', '0', '0', '0', '0', '2', '0', '0', '0', '0', '0', '0', '1', '0', '0', '0', '1', '0', '0', '0', '2', '2', '0', '0', '0', '2', '0', '1', '0', '0', '2', '0', '0', '2', '0', '0', '0', '0', '0', '0', '2', '0', '0', '0', '0', '0', '0', '0', '3', '0', '2', '0', '0', '0', '0', '2', '0', '0', '0', '1', '1', '0'], 'survived': ['0', '1', '1', '1', '0', '0', '0', '0', '1', '1', '1', '1', '0', '0', '1', '1', '0', '1', '0', '1', '0', '0', '1', '1', '0', '1', '0', '0', '1', '0', '1', '1', '1', '0', '0', '0', '0', '0', '0', '0', '0', '1', '0', '1', '1', '0', '0', '1', '0', '0', '0', '0', '1', '1', '0', '1', '1', '0', '1', '0', '0', '1', '0', '0', '0', '1', '1', '0', '1', '0', '0', '0', '0', '0', '0', '0', '0', '0', '1', '1', '0', '0', '1', '1', '1', '1', '0', '0', '1', '0', '0', '0', '0', '0', '0', '0', '0', '1', '1', '0']}\n"
     ]
    }
   ],
   "source": [
    "print(\"uwu\")\n",
    "import csv\n",
    "import math\n",
    "\n",
    "#PassengerId, Pclass - class on ship, Name, Sex, Age, \n",
    "#SibSp - sibling they were traveled with, Parch - parents and children, Survived - did they survive\n",
    "\n",
    "passengers = {\n",
    "    \"id\" : [],\n",
    "    \"p_class\" : [],\n",
    "    \"name\" : [],\n",
    "    \"sex\" : [],\n",
    "    \"age\" : [],\n",
    "    \"siblings\" : [],\n",
    "    \"children\" : [],\n",
    "    \"survived\" : []\n",
    "}\n",
    "\n",
    "with open(\"titanic-homework.csv\", \"r\") as file:\n",
    "    titanicFile = csv.DictReader(file)\n",
    "    titanicList = list(titanicFile)\n",
    "    print(titanicList)\n",
    "    print(2)\n",
    "    for line in titanicList:\n",
    "        print (line)\n",
    "        passengers[\"id\"].append(line['PassengerId'])\n",
    "        passengers[\"p_class\"].append(line['Pclass'])\n",
    "        passengers[\"name\"].append(line['Name'])\n",
    "        passengers[\"sex\"].append(line['Sex'])\n",
    "        passengers[\"age\"].append(line['Age'])\n",
    "        passengers[\"siblings\"].append(line['SibSp'])\n",
    "        passengers[\"children\"].append(line['Parch'])\n",
    "        passengers[\"survived\"].append(line['Survived'])\n",
    "        # print (line['Sex'])\n",
    "\n",
    "print (passengers)"
   ]
  },
  {
   "cell_type": "code",
   "execution_count": 74,
   "metadata": {},
   "outputs": [
    {
     "name": "stdout",
     "output_type": "stream",
     "text": [
      "[60, 40]\n",
      "[21, 19, 60]\n",
      "[29, 50, 21]\n",
      "[40, 60]\n",
      "[0.6, 0.4]\n"
     ]
    }
   ],
   "source": [
    "survived = [0, 0] #tak, nie\n",
    "p_class = [0, 0, 0] #1, 2, 3\n",
    "age = [0, 0, 0] #young [0,20], middle (20,40], old (40,100]\n",
    "siblings = [] #0, 1 - do przemyślenia\n",
    "children = [] #0, 1 - do przemyślenia\n",
    "sex = [0, 0] #female, male\n",
    "\n",
    "for x in passengers['survived']:\n",
    "    if (x == '0'):\n",
    "        survived[0] += 1\n",
    "    else: \n",
    "        survived[1] += 1\n",
    "\n",
    "for x in passengers['p_class']:\n",
    "    if (x == '1'):\n",
    "        p_class[0] += 1\n",
    "    elif (x == '2'):\n",
    "        p_class[1] += 1\n",
    "    else: \n",
    "        p_class[2] += 1\n",
    "\n",
    "for x in passengers['age']:\n",
    "    if (int(x) <= 20):\n",
    "        age[0] += 1\n",
    "    elif ((int(x) > 20) and (int(x) <= 40)):\n",
    "        age[1] += 1\n",
    "    else: \n",
    "        age[2] += 1\n",
    "\n",
    "for x in passengers['sex']:\n",
    "    if (x == \"female\"):\n",
    "        sex[0] += 1\n",
    "    else:\n",
    "        sex[1] += 1\n",
    "        \n",
    "print(survived)\n",
    "print(p_class)\n",
    "print(age)\n",
    "print(sex)\n",
    "\n",
    "S_survived = [survived[0]/100, survived[1]/100]\n",
    "\n",
    "print(S_survived)\n"
   ]
  },
  {
   "cell_type": "markdown",
   "metadata": {},
   "source": [
    "### Entropia\n",
    "Kolejnym etapem jest obliczenie entropii z wartości klasy decyzyjnej. W opisywanym zadniu są dwie takie wartości - czy osoba przeżyła (1), czy nie (0).\n",
    "<br> W celu obliczenia entropii wykorzystany został wzór:\n",
    "$$\n",
    "Entropy(S) = -\\sum_{i=1}^n P(x_{i})logP(x_{i})\n",
    "$$\n",
    "Gdzie $P(x_{i})$ jest prawdopodobieństwem wystąpienia wartości <i>tak</i> lub <i>nie</i>."
   ]
  },
  {
   "cell_type": "code",
   "execution_count": 81,
   "metadata": {},
   "outputs": [
    {
     "name": "stdout",
     "output_type": "stream",
     "text": [
      "-567.2905595320057\n"
     ]
    }
   ],
   "source": [
    "def entropy(lst):\n",
    "    p = 0\n",
    "    for x in lst:\n",
    "        if x:\n",
    "           p -= x * math.log2(x)\n",
    "    return p\n",
    "\n",
    "print(entropy(S_survived))"
   ]
  },
  {
   "cell_type": "markdown",
   "metadata": {},
   "source": [
    "Entropia warunkowa została ze wzoru:\n",
    "$$\n",
    "Entropy(S|A) = \\sum_{j=1}^m \\frac{|S_{j}|}{|S|}Entropy(S_{j})\n",
    "$$"
   ]
  },
  {
   "cell_type": "code",
   "execution_count": 82,
   "metadata": {},
   "outputs": [],
   "source": [
    "def conditional_entropy(lst):\n",
    "    p = 0\n",
    "    for x in lst:\n",
    "        p -= x * entropy"
   ]
  },
  {
   "cell_type": "markdown",
   "metadata": {},
   "source": [
    "<style color=\"red\">UwU OwO</style>"
   ]
  },
  {
   "cell_type": "markdown",
   "metadata": {},
   "source": [
    "#### Information gain\n",
    "Aby podjąć decyzję dotyczącą wyboru następnego węzła, wybrać należy ten atrybut, który ma największą wartość różnicy entropii i entropii warunkowej (information gain). \n",
    "$$\n",
    "Gain(S,A) = Entropy(S) − Entropy(S|A)\n",
    "$$"
   ]
  },
  {
   "cell_type": "code",
   "execution_count": 83,
   "metadata": {},
   "outputs": [
    {
     "ename": "TypeError",
     "evalue": "unsupported operand type(s) for -: 'function' and 'function'",
     "output_type": "error",
     "traceback": [
      "\u001b[1;31m---------------------------------------------------------------------------\u001b[0m",
      "\u001b[1;31mTypeError\u001b[0m                                 Traceback (most recent call last)",
      "Cell \u001b[1;32mIn[83], line 1\u001b[0m\n\u001b[1;32m----> 1\u001b[0m gain \u001b[38;5;241m=\u001b[39m \u001b[43mentropy\u001b[49m\u001b[43m \u001b[49m\u001b[38;5;241;43m-\u001b[39;49m\u001b[43m \u001b[49m\u001b[43mconditional_entropy\u001b[49m\n",
      "\u001b[1;31mTypeError\u001b[0m: unsupported operand type(s) for -: 'function' and 'function'"
     ]
    }
   ],
   "source": [
    "gain = entropy - conditional_entropy"
   ]
  }
 ],
 "metadata": {
  "kernelspec": {
   "display_name": "Python 3",
   "language": "python",
   "name": "python3"
  },
  "language_info": {
   "codemirror_mode": {
    "name": "ipython",
    "version": 3
   },
   "file_extension": ".py",
   "mimetype": "text/x-python",
   "name": "python",
   "nbconvert_exporter": "python",
   "pygments_lexer": "ipython3",
   "version": "3.10.9"
  }
 },
 "nbformat": 4,
 "nbformat_minor": 2
}
